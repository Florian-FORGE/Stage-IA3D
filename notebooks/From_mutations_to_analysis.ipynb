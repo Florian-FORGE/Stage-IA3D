{
 "cells": [
  {
   "cell_type": "code",
   "execution_count": 1,
   "id": "0cd4bace",
   "metadata": {},
   "outputs": [],
   "source": [
    "import sys\n",
    "c_path = \"/home/fforge/Stage-IA3D/scripts/\"\n",
    "sys.path.append(f\"{c_path}/mutations\")\n",
    "sys.path.append(f\"{c_path}/orca_predictions\")\n",
    "sys.path.append(f\"{c_path}/orcanalyse\")\n",
    "\n",
    "import mutate_module as mm\n",
    "import process_sequence as ps\n",
    "import matrices as mat\n",
    "\n",
    "import pandas as pd\n",
    "import os"
   ]
  },
  {
   "cell_type": "markdown",
   "id": "071256fe",
   "metadata": {},
   "source": [
    "# "
   ]
  },
  {
   "cell_type": "code",
   "execution_count": 2,
   "id": "1c8f7b32",
   "metadata": {},
   "outputs": [],
   "source": [
    "mutationfile = None\n",
    "bedfile = \"./resources/annotations/chr1_4_specific_ctcf_Bos.bed\"\n",
    "ref_fasta = \"./resources/genome/Bos_taurus_chr1.fa\"\n",
    "mut_path = \"./outputs/genome/mut_4_specific_CTCF_start_chr1_Bos_tau\"\n",
    "mutationtype = \"shuffle\"\n",
    "nb_random = 1"
   ]
  },
  {
   "cell_type": "markdown",
   "id": "4ffcc710",
   "metadata": {},
   "source": [
    "# "
   ]
  },
  {
   "cell_type": "code",
   "execution_count": null,
   "id": "d79e6946",
   "metadata": {},
   "outputs": [],
   "source": [
    "chrom = \"chr1\"\n",
    "prediction_prefix = \"mut_4_specific_CTCF_chr1_first_32Mb_Bos_tau\"\n",
    "resol_model = \"32Mb\"\n",
    "mpos = 16_000_000\n",
    "cool_resol = 128_000\n",
    "strict=False,\n",
    "padding_chr=None,\n",
    "use_cuda=False,\n",
    "use_memmapgenome=False\n",
    "pred_path = \"./outputs/predictions/Bos_taurus_chr1\"\n",
    "orcarun_path = \".outputs/runfiles/start_chr1_Bos/\""
   ]
  },
  {
   "cell_type": "markdown",
   "id": "2fa7e746",
   "metadata": {},
   "source": [
    "# "
   ]
  },
  {
   "cell_type": "code",
   "execution_count": 4,
   "id": "01675556",
   "metadata": {},
   "outputs": [
    {
     "name": "stderr",
     "output_type": "stream",
     "text": [
      "Valid mutated chrom chr1\n",
      "Valid mutated chrom chr1\n"
     ]
    }
   ],
   "source": [
    "mm.main(mutationfile=None, \n",
    "        bed=bedfile, \n",
    "        genome=ref_fasta, \n",
    "        path=mut_path,\n",
    "        mutationtype=mutationtype,\n",
    "        nb_random=nb_random)"
   ]
  },
  {
   "cell_type": "markdown",
   "id": "4c7ca2c4",
   "metadata": {},
   "source": [
    "# "
   ]
  },
  {
   "cell_type": "code",
   "execution_count": null,
   "id": "6c42e76c",
   "metadata": {},
   "outputs": [
    {
     "name": "stderr",
     "output_type": "stream",
     "text": [
      "2025-04-15 11:42:59,139 - INFO - Time taken to load genome: 0.00 seconds\n",
      "2025-04-15 11:43:02,394 - INFO - Time taken to get encoded sequence: 3.25 seconds\n",
      "2025-04-15 11:43:07,070 - INFO - Time taken to load the ressources: 4.68 seconds\n",
      "/home/fforge/miniforge3/envs/orca_env/lib/python3.9/site-packages/torch/_dynamo/eval_frame.py:745: UserWarning: torch.utils.checkpoint: the use_reentrant parameter should be passed explicitly. In version 2.5 we will raise an exception if use_reentrant is not passed. use_reentrant=False is recommended, but if you need to preserve the current default behavior, you can pass use_reentrant=True. Refer to docs for more details on the differences between the two variants.\n",
      "  return fn(*args, **kwargs)\n",
      "2025-04-15 11:47:25,716 - INFO - Time taken for predictions: 258.64 seconds\n",
      "2025-04-15 11:47:26,292 - INFO - Total time taken by main: 267.15 seconds\n",
      "2025-04-15 11:47:26,308 - INFO - Time taken to load genome: 0.00 seconds\n",
      "2025-04-15 11:47:29,407 - INFO - Time taken to get encoded sequence: 3.10 seconds\n",
      "2025-04-15 11:47:33,699 - INFO - Time taken to load the ressources: 4.29 seconds\n",
      "/home/fforge/miniforge3/envs/orca_env/lib/python3.9/site-packages/torch/_dynamo/eval_frame.py:745: UserWarning: torch.utils.checkpoint: the use_reentrant parameter should be passed explicitly. In version 2.5 we will raise an exception if use_reentrant is not passed. use_reentrant=False is recommended, but if you need to preserve the current default behavior, you can pass use_reentrant=True. Refer to docs for more details on the differences between the two variants.\n",
      "  return fn(*args, **kwargs)\n",
      "2025-04-15 11:51:51,390 - INFO - Time taken for predictions: 257.69 seconds\n",
      "2025-04-15 11:51:51,977 - INFO - Total time taken by main: 265.67 seconds\n",
      "2025-04-15 11:51:51,998 - INFO - Time taken to load genome: 0.00 seconds\n"
     ]
    },
    {
     "name": "stdout",
     "output_type": "stream",
     "text": [
      "True\n"
     ]
    },
    {
     "name": "stderr",
     "output_type": "stream",
     "text": [
      "2025-04-15 11:51:55,135 - INFO - Time taken to get encoded sequence: 3.14 seconds\n",
      "2025-04-15 11:51:59,626 - INFO - Time taken to load the ressources: 4.49 seconds\n",
      "/home/fforge/miniforge3/envs/orca_env/lib/python3.9/site-packages/torch/_dynamo/eval_frame.py:745: UserWarning: torch.utils.checkpoint: the use_reentrant parameter should be passed explicitly. In version 2.5 we will raise an exception if use_reentrant is not passed. use_reentrant=False is recommended, but if you need to preserve the current default behavior, you can pass use_reentrant=True. Refer to docs for more details on the differences between the two variants.\n",
      "  return fn(*args, **kwargs)\n"
     ]
    }
   ],
   "source": [
    "data = []\n",
    "repository = [\"Wtd_mut\"] + [f\"Rdm_mut_{i}\" for i in range (nb_random)]\n",
    "\n",
    "for name in repository:\n",
    "    ps.main(chrom=chrom,\n",
    "            output_prefix=f\"{prediction_prefix}_{name}\",\n",
    "            mutation=name,\n",
    "            resol_model=resol_model,\n",
    "            mpos=mpos,\n",
    "            fasta=f\"{mut_path}/{name}/sequence.fa\",\n",
    "            cool_resol=cool_resol,\n",
    "            strict=strict,\n",
    "            padding_chr=padding_chr,\n",
    "            use_cuda=False,\n",
    "            use_memmapgenome=use_memmapgenome,\n",
    "            pred_path=pred_path)\n",
    "    \n",
    "    path = f\"{pred_path}/{prediction_prefix}_{name}\"\n",
    "    \n",
    "    l_resol = mat.extract_resol_asc(path, \"pred\")\n",
    "\n",
    "    data.append([f\"orcarun_{name}\", \n",
    "                 f\"{l_resol}\", \n",
    "                 f\"{pred_path}/{prediction_prefix}_{name}\", \n",
    "                 f\"{name}\", \n",
    "                 f\"{ref_fasta.split('/')[-1].split('.')[0]}\", \n",
    "                 f\"OrcaRun\"])\n",
    "\n",
    "head = [\"name\", \"list_resol\", \"path\", \"gtype\", \"genome\", \"mtype\"]\n",
    "\n",
    "print (os.path.exists(orcarun_path))\n",
    "if orcarun_path and not os.path.exists(orcarun_path):\n",
    "        print(orcarun_path)\n",
    "        os.makedirs(orcarun_path)\n",
    "        print (os.path.exists(orcarun_path))\n",
    "\n",
    "df = pd.DataFrame(data,columns=head)\n",
    "df.to_csv(f\"{orcarun_path}/orcarun.csv\", sep=\"\\t\", index=False, header=True)\n",
    "\n",
    "ps.main(chrom=chrom,\n",
    "        output_prefix=\"ref_orcarun\",\n",
    "        mutation=\"wt\",\n",
    "        resol_model=resol_model,\n",
    "        mpos=mpos,\n",
    "        fasta=ref_fasta,\n",
    "        cool_resol=cool_resol,\n",
    "        strict=strict,\n",
    "        padding_chr=padding_chr,\n",
    "        use_cuda=False,\n",
    "        use_memmapgenome=use_memmapgenome,\n",
    "        pred_path=pred_path)\n",
    "\n",
    "ref_path = f\"{pred_path}/ref_orcarun\"\n",
    "l_resol = mat.extract_resol_asc(ref_path, \"pred\")\n",
    "\n",
    "data_ref = [f\"orcarun_ref\", \n",
    "            f\"{l_resol}\", \n",
    "            f\"{pred_path}/ref_orcarun\", \n",
    "            f\"wt\", \n",
    "            f\"{ref_fasta.split('/')[-1].split('.')[0]}\", \n",
    "            f\"OrcaRun\"]\n",
    "\n",
    "df_ref = pd.DataFrame([data_ref], columns=head)\n",
    "df_ref.to_csv(f\"{orcarun_path}/ref_orcarun.csv\", sep=\"\\t\", index=False, header=True, mode='w')\n"
   ]
  },
  {
   "cell_type": "markdown",
   "id": "f6b80711",
   "metadata": {},
   "source": [
    "# "
   ]
  },
  {
   "cell_type": "code",
   "execution_count": 6,
   "id": "2d012191",
   "metadata": {},
   "outputs": [
    {
     "ename": "TypeError",
     "evalue": "build_OrcaRun() got an unexpected keyword argument 'base_name'",
     "output_type": "error",
     "traceback": [
      "\u001b[0;31m---------------------------------------------------------------------------\u001b[0m",
      "\u001b[0;31mTypeError\u001b[0m                                 Traceback (most recent call last)",
      "Cell \u001b[0;32mIn[6], line 1\u001b[0m\n\u001b[0;32m----> 1\u001b[0m mat_comparisons \u001b[38;5;241m=\u001b[39m \u001b[43mmat\u001b[49m\u001b[38;5;241;43m.\u001b[39;49m\u001b[43mbuild_CompareMatrices\u001b[49m\u001b[43m(\u001b[49m\u001b[43mfilepathref\u001b[49m\u001b[38;5;241;43m=\u001b[39;49m\u001b[38;5;124;43mf\u001b[39;49m\u001b[38;5;124;43m\"\u001b[39;49m\u001b[38;5;132;43;01m{\u001b[39;49;00m\u001b[43morcarun_path\u001b[49m\u001b[38;5;132;43;01m}\u001b[39;49;00m\u001b[38;5;124;43m/ref_orcarun.csv\u001b[39;49m\u001b[38;5;124;43m\"\u001b[39;49m\u001b[43m,\u001b[49m\u001b[43m \u001b[49m\u001b[43mfilepathcomp\u001b[49m\u001b[38;5;241;43m=\u001b[39;49m\u001b[38;5;124;43mf\u001b[39;49m\u001b[38;5;124;43m\"\u001b[39;49m\u001b[38;5;132;43;01m{\u001b[39;49;00m\u001b[43morcarun_path\u001b[49m\u001b[38;5;132;43;01m}\u001b[39;49;00m\u001b[38;5;124;43m/orcarun.csv\u001b[39;49m\u001b[38;5;124;43m\"\u001b[39;49m\u001b[43m)\u001b[49m\n",
      "File \u001b[0;32m~/Stage-IA3D/scripts//orcanalyse/matrices.py:1743\u001b[0m, in \u001b[0;36mbuild_CompareMatrices\u001b[0;34m(filepathref, filepathcomp)\u001b[0m\n\u001b[1;32m   1738\u001b[0m         obj \u001b[38;5;241m=\u001b[39m OrcaMatrix(orcapredfile\u001b[38;5;241m=\u001b[39mrow\u001b[38;5;241m.\u001b[39morcapredpath, \n\u001b[1;32m   1739\u001b[0m                          normmatfile\u001b[38;5;241m=\u001b[39mrow\u001b[38;5;241m.\u001b[39mnormmatpath, \n\u001b[1;32m   1740\u001b[0m                          gtype\u001b[38;5;241m=\u001b[39mrow\u001b[38;5;241m.\u001b[39mgtype)\n\u001b[1;32m   1742\u001b[0m     \u001b[38;5;28;01melif\u001b[39;00m row\u001b[38;5;241m.\u001b[39mmtype \u001b[38;5;241m==\u001b[39m \u001b[38;5;124m\"\u001b[39m\u001b[38;5;124mOrcaRun\u001b[39m\u001b[38;5;124m\"\u001b[39m:\n\u001b[0;32m-> 1743\u001b[0m         obj \u001b[38;5;241m=\u001b[39m \u001b[43mbuild_OrcaRun\u001b[49m\u001b[43m(\u001b[49m\u001b[43mpath\u001b[49m\u001b[38;5;241;43m=\u001b[39;49m\u001b[43mrow\u001b[49m\u001b[38;5;241;43m.\u001b[39;49m\u001b[43mpath\u001b[49m\u001b[43m,\u001b[49m\n\u001b[1;32m   1744\u001b[0m \u001b[43m                            \u001b[49m\u001b[43mbase_name\u001b[49m\u001b[38;5;241;43m=\u001b[39;49m\u001b[43mrow\u001b[49m\u001b[38;5;241;43m.\u001b[39;49m\u001b[43mbase_name\u001b[49m\u001b[43m,\u001b[49m\n\u001b[1;32m   1745\u001b[0m \u001b[43m                            \u001b[49m\u001b[43mgtype\u001b[49m\u001b[38;5;241;43m=\u001b[39;49m\u001b[43mrow\u001b[49m\u001b[38;5;241;43m.\u001b[39;49m\u001b[43mgtype\u001b[49m\u001b[43m)\u001b[49m\n\u001b[1;32m   1747\u001b[0m     comp[row\u001b[38;5;241m.\u001b[39mname] \u001b[38;5;241m=\u001b[39m obj\n\u001b[1;32m   1749\u001b[0m ref_df \u001b[38;5;241m=\u001b[39m pd\u001b[38;5;241m.\u001b[39mread_csv(filepathref, header\u001b[38;5;241m=\u001b[39m\u001b[38;5;241m0\u001b[39m, sep\u001b[38;5;241m=\u001b[39m\u001b[38;5;124m'\u001b[39m\u001b[38;5;130;01m\\t\u001b[39;00m\u001b[38;5;124m'\u001b[39m)\n",
      "\u001b[0;31mTypeError\u001b[0m: build_OrcaRun() got an unexpected keyword argument 'base_name'"
     ]
    }
   ],
   "source": [
    "mat_comparisons = mat.build_CompareMatrices(filepathref=f\"{orcarun_path}/ref_orcarun.csv\", filepathcomp=f\"{orcarun_path}/orcarun.csv\")"
   ]
  },
  {
   "cell_type": "markdown",
   "id": "2515e778",
   "metadata": {},
   "source": [
    "# "
   ]
  },
  {
   "cell_type": "code",
   "execution_count": null,
   "id": "0f343d02",
   "metadata": {},
   "outputs": [],
   "source": [
    "mat_comparisons.heatmaps()"
   ]
  },
  {
   "cell_type": "markdown",
   "id": "66114ce6",
   "metadata": {},
   "source": [
    "# "
   ]
  },
  {
   "cell_type": "code",
   "execution_count": null,
   "id": "9bb9c6a5",
   "metadata": {},
   "outputs": [],
   "source": [
    "mat_comparisons.all_graphs()"
   ]
  },
  {
   "cell_type": "markdown",
   "id": "e02a936b",
   "metadata": {},
   "source": [
    "# "
   ]
  },
  {
   "cell_type": "code",
   "execution_count": null,
   "id": "9646ae89",
   "metadata": {},
   "outputs": [],
   "source": [
    "mat_comparisons.correl_mat()"
   ]
  },
  {
   "cell_type": "markdown",
   "id": "8af89bd8",
   "metadata": {},
   "source": [
    "# "
   ]
  },
  {
   "cell_type": "code",
   "execution_count": null,
   "id": "87eb86c1",
   "metadata": {},
   "outputs": [],
   "source": [
    "mat_comparisons.scores_regression()"
   ]
  },
  {
   "cell_type": "code",
   "execution_count": null,
   "id": "58c09dab",
   "metadata": {},
   "outputs": [],
   "source": [
    "mat_comparisons.scores_regression(score_type=\"PC1\")"
   ]
  },
  {
   "cell_type": "code",
   "execution_count": null,
   "id": "c97d5d90",
   "metadata": {},
   "outputs": [],
   "source": [
    "mat_comparisons.scores_regression(score_type=\"insulation_correl\")"
   ]
  }
 ],
 "metadata": {
  "kernelspec": {
   "display_name": "orca_env",
   "language": "python",
   "name": "python3"
  },
  "language_info": {
   "codemirror_mode": {
    "name": "ipython",
    "version": 3
   },
   "file_extension": ".py",
   "mimetype": "text/x-python",
   "name": "python",
   "nbconvert_exporter": "python",
   "pygments_lexer": "ipython3",
   "version": "3.9.21"
  }
 },
 "nbformat": 4,
 "nbformat_minor": 5
}
